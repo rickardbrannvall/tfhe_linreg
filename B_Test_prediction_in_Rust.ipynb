{
 "cells": [
  {
   "cell_type": "code",
   "execution_count": 25,
   "id": "8203a4dd-8792-4eb8-a888-cde3b1be7ebd",
   "metadata": {},
   "outputs": [
    {
     "ename": "Error",
     "evalue": "Failed to read Cargo metadata from Cargo.toml file /tmp/.tmpNggwOL/Cargo.toml, cargo 1.54.0 (5ae8d74b3 2021-06-22)",
     "output_type": "error",
     "traceback": [
      "Failed to read Cargo metadata from Cargo.toml file /tmp/.tmpNggwOL/Cargo.toml, cargo 1.54.0 (5ae8d74b3 2021-06-22)"
     ]
    }
   ],
   "source": [
    ":dep darn = {version = \"0.3.0\"}\n",
    ":dep ndarray = {version = \"0.13.1\"}\n",
    ":dep ndarray-csv = {version = \"0.4.1\"}\n",
    "\n",
    "extern crate csv;\n",
    "extern crate ndarray;\n",
    "extern crate ndarray_csv;\n",
    "\n",
    "use csv::{ReaderBuilder, WriterBuilder};\n",
    "use ndarray::{Array, Array2};\n",
    "use ndarray_csv::{Array2Reader, Array2Writer};\n",
    "use std::error::Error;\n",
    "use std::fs::File;\n",
    "\n",
    "use ndarray::Axis;\n"
   ]
  },
  {
   "cell_type": "code",
   "execution_count": 3,
   "id": "cd1d73e5-5987-4eb3-a912-63a1c846dae4",
   "metadata": {},
   "outputs": [
    {
     "name": "stdout",
     "output_type": "stream",
     "text": [
      "(102, 13)\n"
     ]
    },
    {
     "data": {
      "text/html": [
       "<table><tbody><tr><td>0.08014</td><td>0.0</td><td>5.96</td><td>0.0</td><td>0.499</td><td>5.85</td><td>41.5</td><td>3.9342</td><td>5.0</td><td>279.0</td><td>19.2</td><td>396.9</td><td>8.77</td></tr><tr><td>0.19657</td><td>22.0</td><td>5.86</td><td>0.0</td><td>0.431</td><td>6.226</td><td>79.2</td><td>8.0555</td><td>7.0</td><td>330.0</td><td>19.1</td><td>376.14</td><td>10.15</td></tr><tr><td>0.09266</td><td>34.0</td><td>6.09</td><td>0.0</td><td>0.433</td><td>6.495</td><td>18.4</td><td>5.4917</td><td>7.0</td><td>329.0</td><td>16.1</td><td>383.61</td><td>8.67</td></tr><tr><td>0.20608</td><td>22.0</td><td>5.86</td><td>0.0</td><td>0.431</td><td>5.593</td><td>76.5</td><td>7.9549</td><td>7.0</td><td>330.0</td><td>19.1</td><td>372.49</td><td>12.5</td></tr><tr><td>0.17134</td><td>0.0</td><td>10.01</td><td>0.0</td><td>0.547</td><td>5.928</td><td>88.2</td><td>2.4631</td><td>6.0</td><td>432.0</td><td>17.8</td><td>344.91</td><td>15.76</td></tr><tr><td>...</td><td>...</td><td>...</td><td>...</td><td>...</td><td>...</td><td>...</td><td>...</td><td>...</td><td>...</td><td>...</td><td>...</td><td>...</td></tr><tr><td>11.8123</td><td>0.0</td><td>18.1</td><td>0.0</td><td>0.718</td><td>6.824</td><td>76.5</td><td>1.794</td><td>24.0</td><td>666.0</td><td>20.2</td><td>48.45</td><td>22.74</td></tr><tr><td>1.80028</td><td>0.0</td><td>19.58</td><td>0.0</td><td>0.605</td><td>5.877</td><td>79.2</td><td>2.4259</td><td>5.0</td><td>403.0</td><td>14.7</td><td>227.61</td><td>12.14</td></tr><tr><td>0.24522</td><td>0.0</td><td>9.9</td><td>0.0</td><td>0.544</td><td>5.782</td><td>71.7</td><td>4.0317</td><td>4.0</td><td>304.0</td><td>18.4</td><td>396.9</td><td>15.94</td></tr><tr><td>0.21977</td><td>0.0</td><td>6.91</td><td>0.0</td><td>0.448</td><td>5.602</td><td>62.0</td><td>6.0877</td><td>3.0</td><td>233.0</td><td>17.9</td><td>396.9</td><td>16.2</td></tr><tr><td>25.0461</td><td>0.0</td><td>18.1</td><td>0.0</td><td>0.693</td><td>5.987</td><td>100.0</td><td>1.5888</td><td>24.0</td><td>666.0</td><td>20.2</td><td>396.9</td><td>26.77</td></tr></tbody></table>"
      ]
     },
     "execution_count": 3,
     "metadata": {},
     "output_type": "execute_result"
    }
   ],
   "source": [
    "// Read an array back from the file\n",
    "let file = File::open(\"data/X_test.csv\")?;\n",
    "let mut reader = ReaderBuilder::new().has_headers(false).from_reader(file);\n",
    "let X_test: Array2<f64> = reader.deserialize_array2_dynamic()?;\n",
    "\n",
    "//println!(\"{:?}\",X_test);\n",
    "println!(\"{:?}\",X_test.dim());\n",
    "\n",
    "darn::show_frame(&X_test, None);\n"
   ]
  },
  {
   "cell_type": "code",
   "execution_count": 4,
   "id": "f0632841-13e9-4957-8b18-342c6052fb57",
   "metadata": {},
   "outputs": [
    {
     "name": "stdout",
     "output_type": "stream",
     "text": [
      "(102, 1)\n"
     ]
    },
    {
     "data": {
      "text/html": [
       "<table><tbody><tr><td>21.0</td></tr><tr><td>20.5</td></tr><tr><td>26.4</td></tr><tr><td>17.6</td></tr><tr><td>18.3</td></tr><tr><td>...</td></tr><tr><td>8.4</td></tr><tr><td>23.8</td></tr><tr><td>19.8</td></tr><tr><td>19.4</td></tr><tr><td>5.6</td></tr></tbody></table>"
      ]
     },
     "execution_count": 4,
     "metadata": {},
     "output_type": "execute_result"
    }
   ],
   "source": [
    "// Read an array back from the file\n",
    "let file = File::open(\"data/y_test.csv\")?;\n",
    "let mut reader = ReaderBuilder::new().has_headers(false).from_reader(file);\n",
    "let y_test: Array2<f64> = reader.deserialize_array2_dynamic()?;\n",
    "\n",
    "println!(\"{:?}\",y_test.dim());\n",
    "\n",
    "darn::show_frame(&y_test, None);"
   ]
  },
  {
   "cell_type": "code",
   "execution_count": 24,
   "id": "0ced372f-6a5e-4aa6-a665-a0a6848399cb",
   "metadata": {},
   "outputs": [
    {
     "name": "stdout",
     "output_type": "stream",
     "text": [
      "(13, 1)\n",
      "[-0.19030898309036648, 0.0932800860322511, 0.022081032111320075, 0.03677664965659445, -0.155674148198367, 0.4271503655388043, -0.027412375070958724, -0.31965275297031104, 0.12615702515734845, -0.12713654284623435, -0.17795470931975668, 0.08067879723966814, -0.350869801368582]\n"
     ]
    },
    {
     "data": {
      "text/html": [
       "<table><tbody><tr><td>-0.19030898309036648</td></tr><tr><td>0.0932800860322511</td></tr><tr><td>0.022081032111320075</td></tr><tr><td>0.03677664965659445</td></tr><tr><td>-0.155674148198367</td></tr><tr><td>...</td></tr><tr><td>0.12615702515734845</td></tr><tr><td>-0.12713654284623435</td></tr><tr><td>-0.17795470931975668</td></tr><tr><td>0.08067879723966814</td></tr><tr><td>-0.350869801368582</td></tr></tbody></table>"
      ]
     },
     "execution_count": 24,
     "metadata": {},
     "output_type": "execute_result"
    }
   ],
   "source": [
    "// Read an array back from the file\n",
    "let file = File::open(\"data/coeff.csv\")?;\n",
    "let mut reader = ReaderBuilder::new().has_headers(false).from_reader(file);\n",
    "let coeff: Array2<f64> = reader.deserialize_array2_dynamic()?;\n",
    "\n",
    "println!(\"{:?}\",coeff.dim());\n",
    "println!(\"{:?}\",coeff.column(0).to_vec());\n",
    "\n",
    "darn::show_frame(&coeff, None);\n"
   ]
  },
  {
   "cell_type": "code",
   "execution_count": 22,
   "id": "009b85ce-b5aa-4843-bc13-fe8bad8209b9",
   "metadata": {},
   "outputs": [
    {
     "name": "stdout",
     "output_type": "stream",
     "text": [
      "(1, 1)\n",
      "[25.650368826695818]\n"
     ]
    },
    {
     "data": {
      "text/html": [
       "<table><tbody><tr><td>25.650368826695818</td></tr></tbody></table>"
      ]
     },
     "execution_count": 22,
     "metadata": {},
     "output_type": "execute_result"
    }
   ],
   "source": [
    "// Read an array back from the file\n",
    "let file = File::open(\"data/intercept.csv\")?;\n",
    "let mut reader = ReaderBuilder::new().has_headers(false).from_reader(file);\n",
    "let intercept: Array2<f64> = reader.deserialize_array2_dynamic()?;\n",
    "\n",
    "println!(\"{:?}\",intercept.dim());\n",
    "println!(\"{:?}\",intercept.row(0).to_vec());\n",
    "\n",
    "darn::show_frame(&intercept, None);"
   ]
  },
  {
   "cell_type": "code",
   "execution_count": 8,
   "id": "8f467920-7879-439e-ac2d-89eb399e66f1",
   "metadata": {},
   "outputs": [
    {
     "data": {
      "text/plain": [
       "Some(3.2904662776120737)"
      ]
     },
     "execution_count": 8,
     "metadata": {},
     "output_type": "execute_result"
    }
   ],
   "source": [
    "let y_pred = X_test.dot(&coeff) + &intercept;\n",
    "\n",
    "let err = &y_pred - &y_test;\n",
    "\n",
    "err.mapv(|x| x.abs()).mean()\n"
   ]
  },
  {
   "cell_type": "code",
   "execution_count": 18,
   "id": "11a7ce20-0997-4993-9f6e-ce387ba79c38",
   "metadata": {},
   "outputs": [
    {
     "name": "stdout",
     "output_type": "stream",
     "text": [
      "[0.08014, 0.0, 5.96, 0.0, 0.499, 5.85, 41.5, 3.9342, 5.0, 279.0, 19.2, 396.9, 8.77]\n",
      "[1.0, 0.0]\n",
      "[0.19657, 22.0, 5.86, 0.0, 0.431, 6.226, 79.2, 8.0555, 7.0, 330.0, 19.1, 376.14, 10.15]\n",
      "[1.0, 0.0]\n",
      "[0.09266, 34.0, 6.09, 0.0, 0.433, 6.495, 18.4, 5.4917, 7.0, 329.0, 16.1, 383.61, 8.67]\n",
      "[1.0, 0.0]\n",
      "[0.20608, 22.0, 5.86, 0.0, 0.431, 5.593, 76.5, 7.9549, 7.0, 330.0, 19.1, 372.49, 12.5]\n",
      "[1.0, 0.0]\n",
      "[0.17134, 0.0, 10.01, 0.0, 0.547, 5.928, 88.2, 2.4631, 6.0, 432.0, 17.8, 344.91, 15.76]\n",
      "[1.0, 0.0]\n"
     ]
    }
   ],
   "source": [
    "for i in 0..5 { // 0..X_test.rows()\n",
    "    println!(\"{:?}\",X_test.row(i).to_vec());\n",
    "    println!(\"{:?}\",&vec![1., 0.]);\n",
    "};"
   ]
  },
  {
   "cell_type": "code",
   "execution_count": null,
   "id": "b177f0db-aeda-48b2-9616-d5e4e5e62744",
   "metadata": {},
   "outputs": [],
   "source": []
  },
  {
   "cell_type": "code",
   "execution_count": 27,
   "id": "5cf7a93c-4908-43b3-9df0-1b1fe4fe54f4",
   "metadata": {},
   "outputs": [],
   "source": [
    ":dep glob = {version = \"*\"}"
   ]
  },
  {
   "cell_type": "code",
   "execution_count": 35,
   "id": "b0c21ad6-5c58-4fab-9007-f5c2b6442037",
   "metadata": {},
   "outputs": [
    {
     "name": "stdout",
     "output_type": "stream",
     "text": [
      "\"data/X_test/0.enc\"\n",
      "\"data/X_test/1.enc\"\n",
      "\"data/X_test/2.enc\"\n",
      "\"data/X_test/3.enc\"\n",
      "\"data/X_test/4.enc\"\n"
     ]
    }
   ],
   "source": [
    "use glob::glob;\n",
    "\n",
    "for entry in glob(\"data/X_test/*.enc\").expect(\"Failed to read glob pattern\") {\n",
    "    //let encfile = format!(\"{}\", entry.unwrap().display());\n",
    "    let encfile = format!(\"{:?}\", entry.unwrap());\n",
    "    println!(\"{}\", encfile);\n",
    "};\n"
   ]
  },
  {
   "cell_type": "code",
   "execution_count": null,
   "id": "47646175-44cf-4adc-a1bb-ebbaf5df9a0d",
   "metadata": {},
   "outputs": [],
   "source": []
  },
  {
   "cell_type": "code",
   "execution_count": 43,
   "id": "380e812d-a460-4f4a-b0f3-5ae60a1cbeec",
   "metadata": {},
   "outputs": [
    {
     "name": "stdout",
     "output_type": "stream",
     "text": [
      "[-0.19134687187755303, 0.09566275730161139, 0.026506916770323224, 0.0411577444776254, -0.18270170752128076, 0.39172174302040447, 0.009062659871093424, -0.31167159313427534, 0.12117142019695652, -0.13000168593008973, -0.1970971233034061, 0.06021107500811342, -0.36763053735007434]\n",
      "[27.57944088016915]\n"
     ]
    }
   ],
   "source": [
    "let file = File::open(\"data/coeff.csv\")?;\n",
    "let mut reader = ReaderBuilder::new().has_headers(false).from_reader(file);\n",
    "let coeff: Array2<f64> = reader.deserialize_array2_dynamic().unwrap();\n",
    "\n",
    "let file = File::open(\"data/intercept.csv\")?;\n",
    "let mut reader = ReaderBuilder::new().has_headers(false).from_reader(file);\n",
    "let intercept: Array2<f64> = reader.deserialize_array2_dynamic().unwrap();\n",
    "\n",
    "let coeff = coeff.column(0).to_vec();\n",
    "println!(\"{:?}\",coeff);\n",
    "\n",
    "let intercept = intercept.column(0).to_vec();\n",
    "println!(\"{:?}\",intercept);\n"
   ]
  },
  {
   "cell_type": "code",
   "execution_count": 50,
   "id": "759aaf6d-2480-450b-afe3-0ed38dec41e4",
   "metadata": {},
   "outputs": [
    {
     "data": {
      "text/plain": [
       "[2.121495452320704, 2.121495452320704, 2.121495452320704, 2.121495452320704, 2.121495452320704, 2.121495452320704, 2.121495452320704, 2.121495452320704, 2.121495452320704, 2.121495452320704, 2.121495452320704, 2.121495452320704, 2.121495452320704]"
      ]
     },
     "execution_count": 50,
     "metadata": {},
     "output_type": "execute_result"
    }
   ],
   "source": [
    "let vec = vec![intercept[0]/coeff.len() as f64; coeff.len()];\n",
    "vec"
   ]
  },
  {
   "cell_type": "code",
   "execution_count": 48,
   "id": "df2383c1-035b-4772-91d1-78a7c2dbe919",
   "metadata": {},
   "outputs": [
    {
     "data": {
      "text/plain": [
       "2.121495452320704"
      ]
     },
     "execution_count": 48,
     "metadata": {},
     "output_type": "execute_result"
    }
   ],
   "source": []
  },
  {
   "cell_type": "code",
   "execution_count": 51,
   "id": "fa55acab-0653-40c6-8710-33681f73153e",
   "metadata": {},
   "outputs": [
    {
     "data": {
      "text/plain": [
       "[-0.19134687187755303, 0.09566275730161139, 0.026506916770323224, 0.0411577444776254, -0.18270170752128076, 0.39172174302040447, 0.009062659871093424, -0.31167159313427534, 0.12117142019695652, -0.13000168593008973, -0.1970971233034061, 0.06021107500811342, -0.36763053735007434]"
      ]
     },
     "execution_count": 51,
     "metadata": {},
     "output_type": "execute_result"
    }
   ],
   "source": []
  },
  {
   "cell_type": "code",
   "execution_count": 60,
   "id": "1c88c44e-6a05-46c8-b7b6-6ec5ad8b34df",
   "metadata": {},
   "outputs": [],
   "source": [
    "let mut y_pred = y_test.clone();\n",
    "y_pred[[0,0]] = 22.;"
   ]
  },
  {
   "cell_type": "code",
   "execution_count": 62,
   "id": "5578c4c4-63bd-412b-b6c6-29d0f8d82134",
   "metadata": {},
   "outputs": [],
   "source": []
  },
  {
   "cell_type": "code",
   "execution_count": 63,
   "id": "ff3b51bc-2391-473e-baec-e34666d4ebbb",
   "metadata": {},
   "outputs": [
    {
     "data": {
      "text/plain": [
       "()"
      ]
     },
     "execution_count": 63,
     "metadata": {},
     "output_type": "execute_result"
    }
   ],
   "source": []
  },
  {
   "cell_type": "code",
   "execution_count": null,
   "id": "ffdc4fcf-cb61-429a-827a-97c1e2bd6dfc",
   "metadata": {},
   "outputs": [],
   "source": []
  }
 ],
 "metadata": {
  "kernelspec": {
   "display_name": "Rust",
   "language": "rust",
   "name": "rust"
  },
  "language_info": {
   "codemirror_mode": "rust",
   "file_extension": ".rs",
   "mimetype": "text/rust",
   "name": "Rust",
   "pygment_lexer": "rust",
   "version": ""
  }
 },
 "nbformat": 4,
 "nbformat_minor": 5
}
